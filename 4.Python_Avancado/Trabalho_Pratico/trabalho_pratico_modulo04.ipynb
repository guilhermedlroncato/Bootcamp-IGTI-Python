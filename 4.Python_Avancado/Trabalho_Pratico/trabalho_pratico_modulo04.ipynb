{
  "nbformat": 4,
  "nbformat_minor": 0,
  "metadata": {
    "colab": {
      "name": "trabalho-pratico-modulo04.ipynb",
      "provenance": [],
      "collapsed_sections": []
    },
    "kernelspec": {
      "name": "python3",
      "display_name": "Python 3",
      "language": "python"
    },
    "language_info": {
      "name": "python",
      "version": "3.8.5"
    }
  },
  "cells": [
    {
      "cell_type": "code",
      "metadata": {
        "id": "gamZ1wJdyUuB"
      },
      "source": [
        "import pandas as pd\n",
        "import numpy as np\n",
        "import matplotlib.pyplot as plt\n",
        "import sklearn\n",
        "from sklearn.preprocessing import MinMaxScaler\n",
        "from sklearn.model_selection import train_test_split\n",
        "from sklearn.svm import SVC\n",
        "from sklearn.neighbors import KNeighborsClassifier\n",
        "from sklearn.tree import DecisionTreeClassifier\n",
        "from sklearn.ensemble import RandomForestClassifier\n",
        "from sklearn.metrics import classification_report, confusion_matrix, accuracy_score\n",
        "from sklearn import neighbors, datasets, metrics\n",
        "from mlxtend.plotting import plot_confusion_matrix\n",
        "from sklearn.neural_network import MLPClassifier"
      ],
      "execution_count": 32,
      "outputs": []
    },
    {
      "cell_type": "code",
      "metadata": {
        "id": "Q1rXI1zpye75"
      },
      "source": [
        "# carregando o dataset\n",
        "df = pd.read_csv('datasets_diabetes.csv')"
      ],
      "execution_count": 2,
      "outputs": []
    },
    {
      "cell_type": "code",
      "metadata": {
        "colab": {
          "base_uri": "https://localhost:8080/"
        },
        "id": "k3aIv2x93mNg",
        "outputId": "45c247d2-4a09-43ae-c6f1-dda3db2a584d"
      },
      "source": [
        "# Info do DF\n",
        "df.info()"
      ],
      "execution_count": 35,
      "outputs": [
        {
          "output_type": "stream",
          "text": [
            "<class 'pandas.core.frame.DataFrame'>\n",
            "RangeIndex: 768 entries, 0 to 767\n",
            "Data columns (total 9 columns):\n",
            " #   Column                    Non-Null Count  Dtype  \n",
            "---  ------                    --------------  -----  \n",
            " 0   Pregnancies               768 non-null    int64  \n",
            " 1   Glucose                   768 non-null    int64  \n",
            " 2   BloodPressure             768 non-null    int64  \n",
            " 3   SkinThickness             768 non-null    int64  \n",
            " 4   Insulin                   768 non-null    int64  \n",
            " 5   BMI                       768 non-null    float64\n",
            " 6   DiabetesPedigreeFunction  768 non-null    float64\n",
            " 7   Age                       768 non-null    int64  \n",
            " 8   Outcome                   768 non-null    int64  \n",
            "dtypes: float64(2), int64(7)\n",
            "memory usage: 54.1 KB\n"
          ],
          "name": "stdout"
        }
      ]
    },
    {
      "cell_type": "code",
      "metadata": {
        "colab": {
          "base_uri": "https://localhost:8080/"
        },
        "id": "_1MsxtwR30dV",
        "outputId": "0eb3c134-a416-43c5-8fd6-158903356468"
      },
      "source": [
        "# Quantidade de Linhas e Colunas no Dataset\n",
        "df.shape"
      ],
      "execution_count": 36,
      "outputs": [
        {
          "output_type": "execute_result",
          "data": {
            "text/plain": [
              "(768, 9)"
            ]
          },
          "metadata": {
            "tags": []
          },
          "execution_count": 36
        }
      ]
    },
    {
      "cell_type": "code",
      "metadata": {
        "colab": {
          "base_uri": "https://localhost:8080/"
        },
        "id": "VyfRzW674Ipc",
        "outputId": "3510fd85-ad9b-4c6d-cf35-7c063fae9440"
      },
      "source": [
        "# Media da coluna Age\n",
        "df['Age'].mean()"
      ],
      "execution_count": 37,
      "outputs": [
        {
          "output_type": "execute_result",
          "data": {
            "text/plain": [
              "33.240885416666664"
            ]
          },
          "metadata": {
            "tags": []
          },
          "execution_count": 37
        }
      ]
    },
    {
      "cell_type": "code",
      "metadata": {
        "colab": {
          "base_uri": "https://localhost:8080/",
          "height": 204
        },
        "id": "jMVGK0wvytSD",
        "outputId": "4418e65d-5f1c-478a-f3a5-70177b352cfc"
      },
      "source": [
        "# Linhas do df\n",
        "df.head()"
      ],
      "execution_count": 3,
      "outputs": [
        {
          "output_type": "execute_result",
          "data": {
            "text/html": [
              "<div>\n",
              "<style scoped>\n",
              "    .dataframe tbody tr th:only-of-type {\n",
              "        vertical-align: middle;\n",
              "    }\n",
              "\n",
              "    .dataframe tbody tr th {\n",
              "        vertical-align: top;\n",
              "    }\n",
              "\n",
              "    .dataframe thead th {\n",
              "        text-align: right;\n",
              "    }\n",
              "</style>\n",
              "<table border=\"1\" class=\"dataframe\">\n",
              "  <thead>\n",
              "    <tr style=\"text-align: right;\">\n",
              "      <th></th>\n",
              "      <th>Pregnancies</th>\n",
              "      <th>Glucose</th>\n",
              "      <th>BloodPressure</th>\n",
              "      <th>SkinThickness</th>\n",
              "      <th>Insulin</th>\n",
              "      <th>BMI</th>\n",
              "      <th>DiabetesPedigreeFunction</th>\n",
              "      <th>Age</th>\n",
              "      <th>Outcome</th>\n",
              "    </tr>\n",
              "  </thead>\n",
              "  <tbody>\n",
              "    <tr>\n",
              "      <th>0</th>\n",
              "      <td>6</td>\n",
              "      <td>148</td>\n",
              "      <td>72</td>\n",
              "      <td>35</td>\n",
              "      <td>0</td>\n",
              "      <td>33.6</td>\n",
              "      <td>0.627</td>\n",
              "      <td>50</td>\n",
              "      <td>1</td>\n",
              "    </tr>\n",
              "    <tr>\n",
              "      <th>1</th>\n",
              "      <td>1</td>\n",
              "      <td>85</td>\n",
              "      <td>66</td>\n",
              "      <td>29</td>\n",
              "      <td>0</td>\n",
              "      <td>26.6</td>\n",
              "      <td>0.351</td>\n",
              "      <td>31</td>\n",
              "      <td>0</td>\n",
              "    </tr>\n",
              "    <tr>\n",
              "      <th>2</th>\n",
              "      <td>8</td>\n",
              "      <td>183</td>\n",
              "      <td>64</td>\n",
              "      <td>0</td>\n",
              "      <td>0</td>\n",
              "      <td>23.3</td>\n",
              "      <td>0.672</td>\n",
              "      <td>32</td>\n",
              "      <td>1</td>\n",
              "    </tr>\n",
              "    <tr>\n",
              "      <th>3</th>\n",
              "      <td>1</td>\n",
              "      <td>89</td>\n",
              "      <td>66</td>\n",
              "      <td>23</td>\n",
              "      <td>94</td>\n",
              "      <td>28.1</td>\n",
              "      <td>0.167</td>\n",
              "      <td>21</td>\n",
              "      <td>0</td>\n",
              "    </tr>\n",
              "    <tr>\n",
              "      <th>4</th>\n",
              "      <td>0</td>\n",
              "      <td>137</td>\n",
              "      <td>40</td>\n",
              "      <td>35</td>\n",
              "      <td>168</td>\n",
              "      <td>43.1</td>\n",
              "      <td>2.288</td>\n",
              "      <td>33</td>\n",
              "      <td>1</td>\n",
              "    </tr>\n",
              "  </tbody>\n",
              "</table>\n",
              "</div>"
            ],
            "text/plain": [
              "   Pregnancies  Glucose  BloodPressure  ...  DiabetesPedigreeFunction  Age  Outcome\n",
              "0            6      148             72  ...                     0.627   50        1\n",
              "1            1       85             66  ...                     0.351   31        0\n",
              "2            8      183             64  ...                     0.672   32        1\n",
              "3            1       89             66  ...                     0.167   21        0\n",
              "4            0      137             40  ...                     2.288   33        1\n",
              "\n",
              "[5 rows x 9 columns]"
            ]
          },
          "metadata": {
            "tags": []
          },
          "execution_count": 3
        }
      ]
    },
    {
      "cell_type": "code",
      "metadata": {
        "id": "qEdZFR15ywIG"
      },
      "source": [
        "# definindo os dados de entrada e saida\n",
        "entradas = df[['Pregnancies', 'Glucose', 'BloodPressure', 'SkinThickness', 'Insulin', 'BMI', 'DiabetesPedigreeFunction', 'Age']] # dados de entrada\n",
        "saida = df[['Outcome']] # dado de saida"
      ],
      "execution_count": 4,
      "outputs": []
    },
    {
      "cell_type": "code",
      "metadata": {
        "colab": {
          "base_uri": "https://localhost:8080/"
        },
        "id": "fR5xsCM74VJw",
        "outputId": "951e2d2d-c9a7-4a08-e1df-70ef65112293"
      },
      "source": [
        "# Valores da saida\n",
        "saida['Outcome'].value_counts()"
      ],
      "execution_count": 39,
      "outputs": [
        {
          "output_type": "execute_result",
          "data": {
            "text/plain": [
              "0    500\n",
              "1    268\n",
              "Name: Outcome, dtype: int64"
            ]
          },
          "metadata": {
            "tags": []
          },
          "execution_count": 39
        }
      ]
    },
    {
      "cell_type": "code",
      "metadata": {
        "id": "BzSylwEpyyuS"
      },
      "source": [
        "# normalização dos dados de entrada\n",
        "normaliza = MinMaxScaler()\n",
        "entradas_normalizadas = normaliza.fit_transform(entradas)"
      ],
      "execution_count": 5,
      "outputs": []
    },
    {
      "cell_type": "code",
      "metadata": {
        "id": "mj3mfE2sy1Ng"
      },
      "source": [
        "# dividindo os dados entre treinamento e teste\n",
        "x_train, x_test, y_train, y_test = train_test_split(entradas_normalizadas, saida,test_size=0.30,random_state=42)"
      ],
      "execution_count": 6,
      "outputs": []
    },
    {
      "cell_type": "code",
      "metadata": {
        "colab": {
          "base_uri": "https://localhost:8080/"
        },
        "id": "vKFn298Z4jjJ",
        "outputId": "b05a26b4-09aa-4f87-94d1-5e7744bcf7d4"
      },
      "source": [
        "# quantidade de registros para treinamento\n",
        "len(x_train)"
      ],
      "execution_count": 40,
      "outputs": [
        {
          "output_type": "execute_result",
          "data": {
            "text/plain": [
              "537"
            ]
          },
          "metadata": {
            "tags": []
          },
          "execution_count": 40
        }
      ]
    },
    {
      "cell_type": "markdown",
      "metadata": {
        "id": "XF3ERj2Ey7ej"
      },
      "source": [
        "## Algoritmo KNN"
      ]
    },
    {
      "cell_type": "code",
      "metadata": {
        "id": "kHdVTbyEy-XY"
      },
      "source": [
        "# criando o objeto de classificação\n",
        "clf_KNN = KNeighborsClassifier(n_neighbors=5)\n",
        "\n",
        "# treinamento o modelo\n",
        "clf_KNN.fit(x_train, y_train.values.reshape(-1,))\n",
        "\n",
        "# realiza a previsão\n",
        "y_pred = clf_KNN.predict(x_test)"
      ],
      "execution_count": 8,
      "outputs": []
    },
    {
      "cell_type": "code",
      "metadata": {
        "colab": {
          "base_uri": "https://localhost:8080/",
          "height": 296
        },
        "id": "VMSfpoljzdz5",
        "outputId": "d2be1d1a-7047-4258-f813-f8a732172f37"
      },
      "source": [
        "# realiza o plot da Matrix de Confusão\n",
        "matriz_confusao = confusion_matrix(y_test, y_pred)\n",
        "fig, ax = plot_confusion_matrix(conf_mat = matriz_confusao)\n",
        "plt.show()\n",
        "\n",
        "# Acuracia do modelo\n",
        "print('Acuracia do Modelo: ', accuracy_score(y_test, y_pred))"
      ],
      "execution_count": 20,
      "outputs": [
        {
          "output_type": "display_data",
          "data": {
            "image/png": "[encoded data removed]",
            "text/plain": [
              "<Figure size 432x288 with 1 Axes>"
            ]
          },
          "metadata": {
            "tags": [],
            "needs_background": "light"
          }
        },
        {
          "output_type": "stream",
          "text": [
            "Acuracia do Modelo:  0.6796536796536796\n"
          ],
          "name": "stdout"
        }
      ]
    },
    {
      "cell_type": "markdown",
      "metadata": {
        "id": "naJYzOGv1LJ1"
      },
      "source": [
        "## Algoritmo Arvore de Decisão"
      ]
    },
    {
      "cell_type": "code",
      "metadata": {
        "id": "52wexUKm1Vv8"
      },
      "source": [
        "# criando o objeto de classificação\n",
        "clf_arvore = DecisionTreeClassifier(random_state = 1)\n",
        "\n",
        "# treinamento o modelo\n",
        "clf_arvore.fit(x_train, y_train.values.reshape(-1,))\n",
        "\n",
        "# realiza a previsão\n",
        "y_pred = clf_arvore.predict(x_test)"
      ],
      "execution_count": 23,
      "outputs": []
    },
    {
      "cell_type": "code",
      "metadata": {
        "colab": {
          "base_uri": "https://localhost:8080/",
          "height": 296
        },
        "id": "DVH1cC091qMX",
        "outputId": "f8fd7393-100d-4c1a-aaaa-5df83b561a65"
      },
      "source": [
        "# realiza o plot da Matrix de Confusão\n",
        "matriz_confusao = confusion_matrix(y_test, y_pred)\n",
        "fig, ax = plot_confusion_matrix(conf_mat = matriz_confusao)\n",
        "plt.show()\n",
        "\n",
        "# Acuracia do modelo\n",
        "print('Acuracia do Modelo: ', accuracy_score(y_test, y_pred))"
      ],
      "execution_count": 24,
      "outputs": [
        {
          "output_type": "display_data",
          "data": {
            "image/png": "[encoded data removed]",
            "text/plain": [
              "<Figure size 432x288 with 1 Axes>"
            ]
          },
          "metadata": {
            "tags": [],
            "needs_background": "light"
          }
        },
        {
          "output_type": "stream",
          "text": [
            "Acuracia do Modelo:  0.696969696969697\n"
          ],
          "name": "stdout"
        }
      ]
    },
    {
      "cell_type": "markdown",
      "metadata": {
        "id": "OKUTm9zy1zxr"
      },
      "source": [
        "## Algoritmo Floresta Randômica"
      ]
    },
    {
      "cell_type": "code",
      "metadata": {
        "id": "wa_Tk8lZ12mO"
      },
      "source": [
        "# criando o objeto de classificação\n",
        "clf_floresta = RandomForestClassifier(max_depth=10, random_state=1)\n",
        "\n",
        "# treinamento o modelo\n",
        "clf_floresta.fit(x_train, y_train.values.reshape(-1,))\n",
        "\n",
        "# realiza a previsão\n",
        "y_pred = clf_floresta.predict(x_test)"
      ],
      "execution_count": 27,
      "outputs": []
    },
    {
      "cell_type": "code",
      "metadata": {
        "colab": {
          "base_uri": "https://localhost:8080/",
          "height": 296
        },
        "id": "xfEnl23n2Hlh",
        "outputId": "e9faf8f5-e1ff-4139-ed17-0a205a2bda20"
      },
      "source": [
        "# realiza o plot da Matrix de Confusão\n",
        "matriz_confusao = confusion_matrix(y_test, y_pred)\n",
        "fig, ax = plot_confusion_matrix(conf_mat = matriz_confusao)\n",
        "plt.show()\n",
        "\n",
        "# Acuracia do modelo\n",
        "print('Acuracia do Modelo: ', accuracy_score(y_test, y_pred))"
      ],
      "execution_count": 28,
      "outputs": [
        {
          "output_type": "display_data",
          "data": {
            "image/png": "[encoded data removed]",
            "text/plain": [
              "<Figure size 432x288 with 1 Axes>"
            ]
          },
          "metadata": {
            "tags": [],
            "needs_background": "light"
          }
        },
        {
          "output_type": "stream",
          "text": [
            "Acuracia do Modelo:  0.7445887445887446\n"
          ],
          "name": "stdout"
        }
      ]
    },
    {
      "cell_type": "markdown",
      "metadata": {
        "id": "KpqICo2V2R0t"
      },
      "source": [
        "## Algoritmo SVM"
      ]
    },
    {
      "cell_type": "code",
      "metadata": {
        "id": "zCEJa6sx2Zeb"
      },
      "source": [
        "# criando o objeto de classificação\n",
        "clf_svm = SVC(gamma='auto',random_state=1)\n",
        "\n",
        "# treinamento o modelo\n",
        "clf_svm.fit(x_train, y_train.values.reshape(-1,))\n",
        "\n",
        "# realiza a previsão\n",
        "y_pred = clf_svm.predict(x_test)"
      ],
      "execution_count": 29,
      "outputs": []
    },
    {
      "cell_type": "code",
      "metadata": {
        "colab": {
          "base_uri": "https://localhost:8080/",
          "height": 296
        },
        "id": "nzReOPW42wpO",
        "outputId": "83717919-6a67-4434-e9d6-d4792f69fdc7"
      },
      "source": [
        "# realiza o plot da Matrix de Confusão\n",
        "matriz_confusao = confusion_matrix(y_test, y_pred)\n",
        "fig, ax = plot_confusion_matrix(conf_mat = matriz_confusao)\n",
        "plt.show()\n",
        "\n",
        "# Acuracia do modelo\n",
        "print('Acuracia do Modelo: ', accuracy_score(y_test, y_pred))"
      ],
      "execution_count": 30,
      "outputs": [
        {
          "output_type": "display_data",
          "data": {
            "image/png": "[encoded data removed]",
            "text/plain": [
              "<Figure size 432x288 with 1 Axes>"
            ]
          },
          "metadata": {
            "tags": [],
            "needs_background": "light"
          }
        },
        {
          "output_type": "stream",
          "text": [
            "Acuracia do Modelo:  0.7705627705627706\n"
          ],
          "name": "stdout"
        }
      ]
    },
    {
      "cell_type": "markdown",
      "metadata": {
        "id": "oPyNKOk721Ao"
      },
      "source": [
        "## Algoritmo Rede MLP"
      ]
    },
    {
      "cell_type": "code",
      "metadata": {
        "id": "92I3ozWQ24WG"
      },
      "source": [
        "# criando o objeto de classificação\n",
        "clf_mlp = MLPClassifier(solver='lbfgs', alpha=1e-5, hidden_layer_sizes=(5,\n",
        "5), random_state=1)\n",
        "\n",
        "# treinamento o modelo\n",
        "clf_mlp.fit(x_train, y_train.values.reshape(-1,))\n",
        "\n",
        "# realiza a previsão\n",
        "y_pred = clf_mlp.predict(x_test)"
      ],
      "execution_count": 33,
      "outputs": []
    },
    {
      "cell_type": "code",
      "metadata": {
        "colab": {
          "base_uri": "https://localhost:8080/",
          "height": 296
        },
        "id": "mezd3d7Y3LRS",
        "outputId": "873d5c84-31f3-4a53-857b-d7fcb895d207"
      },
      "source": [
        "# realiza o plot da Matrix de Confusão\n",
        "matriz_confusao = confusion_matrix(y_test, y_pred)\n",
        "fig, ax = plot_confusion_matrix(conf_mat = matriz_confusao)\n",
        "plt.show()\n",
        "\n",
        "# Acuracia do modelo\n",
        "print('Acuracia do Modelo: ', accuracy_score(y_test, y_pred))"
      ],
      "execution_count": 34,
      "outputs": [
        {
          "output_type": "display_data",
          "data": {
            "image/png": "[encoded data removed]",
            "text/plain": [
              "<Figure size 432x288 with 1 Axes>"
            ]
          },
          "metadata": {
            "tags": [],
            "needs_background": "light"
          }
        },
        {
          "output_type": "stream",
          "text": [
            "Acuracia do Modelo:  0.7316017316017316\n"
          ],
          "name": "stdout"
        }
      ]
    },
    {
      "source": [
        "## Parte do Código 1"
      ],
      "cell_type": "markdown",
      "metadata": {}
    },
    {
      "cell_type": "code",
      "execution_count": 1,
      "metadata": {},
      "outputs": [],
      "source": [
        "import threading\n",
        "import time\n",
        "from random import randint"
      ]
    },
    {
      "cell_type": "code",
      "execution_count": 19,
      "metadata": {},
      "outputs": [
        {
          "output_type": "stream",
          "name": "stdout",
          "text": [
            "Inicio t1..\n",
            "n_1: 99\n",
            "Inicio t2..\n",
            "n_2: 1\n",
            "n_2: 2\n",
            "n_1: 98\n",
            "n_1: 97\n",
            "n_2: 3\n",
            "n_1: 96\n",
            "n_1: 95\n",
            "n_2: 4\n",
            "n_2: 5n_1: 94\n",
            "\n",
            "n_2: 6\n",
            "n_1: 93\n",
            "n_2: 7\n",
            "n_1: 92\n",
            "n_1: 91\n",
            "n_2: 8\n",
            "n_1: 90\n",
            "n_1: 89\n",
            "n_2: 9\n",
            "n_1: 88\n",
            "n_2: 10\n",
            "n_1: 87\n",
            "Fim t2..\n",
            "n_1: 86\n",
            "n_1: 85\n",
            "n_1: 84\n",
            "n_1: 83\n",
            "n_1: 82\n",
            "n_1: 81\n",
            "n_1: 80\n",
            "n_1: 79\n",
            "n_1: 78\n",
            "n_1: 77\n",
            "n_1: 76\n",
            "n_1: 75\n",
            "n_1: 74\n",
            "n_1: 73\n",
            "n_1: 72\n",
            "n_1: 71\n",
            "n_1: 70\n",
            "n_1: 69\n",
            "n_1: 68\n",
            "n_1: 67\n",
            "n_1: 66\n",
            "n_1: 65\n",
            "n_1: 64\n",
            "n_1: 63\n",
            "n_1: 62\n",
            "n_1: 61\n",
            "n_1: 60\n",
            "n_1: 59\n",
            "n_1: 58\n",
            "n_1: 57\n",
            "n_1: 56\n",
            "n_1: 55\n",
            "n_1: 54\n",
            "n_1: 53\n",
            "n_1: 52\n",
            "n_1: 51\n",
            "n_1: 50\n",
            "n_1: 49\n",
            "n_1: 48\n",
            "n_1: 47\n",
            "n_1: 46\n",
            "n_1: 45\n",
            "n_1: 44\n",
            "n_1: 43\n",
            "n_1: 42\n",
            "n_1: 41\n",
            "n_1: 40\n",
            "n_1: 39\n",
            "n_1: 38\n",
            "n_1: 37\n",
            "n_1: 36\n",
            "n_1: 35\n",
            "n_1: 34\n",
            "n_1: 33\n",
            "n_1: 32\n",
            "n_1: 31\n",
            "n_1: 30\n",
            "n_1: 29\n",
            "n_1: 28\n",
            "n_1: 27\n",
            "n_1: 26\n",
            "n_1: 25\n",
            "n_1: 24\n",
            "n_1: 23\n",
            "n_1: 22\n",
            "n_1: 21\n",
            "n_1: 20\n",
            "n_1: 19\n",
            "n_1: 18\n",
            "n_1: 17\n",
            "n_1: 16\n",
            "n_1: 15\n",
            "n_1: 14\n",
            "n_1: 13\n",
            "n_1: 12\n",
            "n_1: 11\n",
            "n_1: 10\n",
            "Fim t1..\n",
            "\n",
            "Fim...\n"
          ]
        }
      ],
      "source": [
        "def funcao_1(num):\n",
        "    n = num\n",
        "    print('Inicio t1..')\n",
        "    while n > 10:        \n",
        "        n -= 1\n",
        "        print(f'n_1: {n}')\n",
        "        time.sleep(randint(0,2))\n",
        "    print('Fim t1..')\n",
        "\n",
        "def funcao_2(num):\n",
        "    n = num\n",
        "    print('Inicio t2..')\n",
        "    while n < 10:\n",
        "        n += 1\n",
        "        print(f'n_2: {n}')\n",
        "        time.sleep(randint(0,2))\n",
        "    print('Fim t2..')\n",
        "\n",
        "if __name__ == '__main__':\n",
        "    t1 = threading.Thread(target = funcao_1, args = (100,))\n",
        "    t2 = threading.Thread(target = funcao_2, args = (0,))\n",
        "\n",
        "    t1.start()\n",
        "    t2.start()\n",
        "\n",
        "    t1.join()\n",
        "    t2.join()\n",
        "\n",
        "    print('\\nFim...')"
      ]
    }
  ]
}