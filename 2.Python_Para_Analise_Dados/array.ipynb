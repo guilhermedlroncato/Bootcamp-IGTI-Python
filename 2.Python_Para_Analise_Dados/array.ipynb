{
 "metadata": {
  "language_info": {
   "codemirror_mode": {
    "name": "ipython",
    "version": 3
   },
   "file_extension": ".py",
   "mimetype": "text/x-python",
   "name": "python",
   "nbconvert_exporter": "python",
   "pygments_lexer": "ipython3",
   "version": "3.8.5"
  },
  "orig_nbformat": 2,
  "kernelspec": {
   "name": "python38564bit8b293b89f0ff4306a4b3808275683ac8",
   "display_name": "Python 3.8.5 64-bit",
   "language": "python"
  }
 },
 "nbformat": 4,
 "nbformat_minor": 2,
 "cells": [
  {
   "cell_type": "code",
   "execution_count": 2,
   "metadata": {},
   "outputs": [],
   "source": [
    "import numpy as np"
   ]
  },
  {
   "source": [
    "## Criação do Array"
   ],
   "cell_type": "markdown",
   "metadata": {}
  },
  {
   "cell_type": "code",
   "execution_count": 7,
   "metadata": {},
   "outputs": [
    {
     "output_type": "stream",
     "name": "stdout",
     "text": [
      "[[1 2 3 4]\n [2 3 4 5]]\n(2, 4)\n"
     ]
    }
   ],
   "source": [
    "# Criação de Arrays\n",
    "x = np.array([[1,2,3,4], [2,3,4,5]])\n",
    "print(x)\n",
    "print(x.shape)"
   ]
  },
  {
   "cell_type": "code",
   "execution_count": 10,
   "metadata": {},
   "outputs": [
    {
     "output_type": "stream",
     "name": "stdout",
     "text": [
      "[[0. 0. 0. 0. 0. 0. 0. 0. 0. 0.]\n [0. 0. 0. 0. 0. 0. 0. 0. 0. 0.]\n [0. 0. 0. 0. 0. 0. 0. 0. 0. 0.]\n [0. 0. 0. 0. 0. 0. 0. 0. 0. 0.]]\n(4, 10)\n"
     ]
    }
   ],
   "source": [
    "# Criação de array de zeros\n",
    "dim = (4,10)\n",
    "x = np.zeros(dim)\n",
    "print(x)\n",
    "print(x.shape)"
   ]
  },
  {
   "cell_type": "code",
   "execution_count": 11,
   "metadata": {},
   "outputs": [
    {
     "output_type": "stream",
     "name": "stdout",
     "text": [
      "[[1. 1. 1. 1. 1. 1. 1. 1. 1. 1.]\n [1. 1. 1. 1. 1. 1. 1. 1. 1. 1.]\n [1. 1. 1. 1. 1. 1. 1. 1. 1. 1.]\n [1. 1. 1. 1. 1. 1. 1. 1. 1. 1.]]\n(4, 10)\n"
     ]
    }
   ],
   "source": [
    "# Criação de array de um\n",
    "dim = (4,10)\n",
    "x = np.ones(dim)\n",
    "print(x)\n",
    "print(x.shape)"
   ]
  },
  {
   "cell_type": "code",
   "execution_count": 33,
   "metadata": {},
   "outputs": [
    {
     "output_type": "stream",
     "name": "stdout",
     "text": [
      "[ 5.          5.30612245  5.6122449   5.91836735  6.2244898   6.53061224\n  6.83673469  7.14285714  7.44897959  7.75510204  8.06122449  8.36734694\n  8.67346939  8.97959184  9.28571429  9.59183673  9.89795918 10.20408163\n 10.51020408 10.81632653 11.12244898 11.42857143 11.73469388 12.04081633\n 12.34693878 12.65306122 12.95918367 13.26530612 13.57142857 13.87755102\n 14.18367347 14.48979592 14.79591837 15.10204082 15.40816327 15.71428571\n 16.02040816 16.32653061 16.63265306 16.93877551 17.24489796 17.55102041\n 17.85714286 18.16326531 18.46938776 18.7755102  19.08163265 19.3877551\n 19.69387755 20.        ]\n(50,)\n"
     ]
    }
   ],
   "source": [
    "# Criação do Array dentor de um intervalo \n",
    "# valores uniformes entre 5 e 20\n",
    "x_min, x_max = 5, 20\n",
    "x = np.linspace(x_min, x_max)\n",
    "print(x)\n",
    "print(x.shape)"
   ]
  },
  {
   "cell_type": "code",
   "execution_count": 34,
   "metadata": {},
   "outputs": [
    {
     "output_type": "stream",
     "name": "stdout",
     "text": [
      "[[1. 0. 0. 0.]\n [0. 1. 0. 0.]\n [0. 0. 1. 0.]\n [0. 0. 0. 1.]]\n(4, 4)\n"
     ]
    }
   ],
   "source": [
    "# Criação de Matriz Identidade\n",
    "n = 4\n",
    "x = np.eye(n)\n",
    "print(x)\n",
    "print(x.shape)"
   ]
  },
  {
   "cell_type": "code",
   "execution_count": 38,
   "metadata": {},
   "outputs": [
    {
     "output_type": "stream",
     "name": "stdout",
     "text": [
      "[[0.34478141 0.08134891 0.18271923 0.32025236 0.7899075 ]\n [0.64500019 0.32066054 0.59866289 0.30627361 0.38573338]\n [0.20130786 0.20351133 0.43725329 0.63179863 0.25503781]\n [0.34323956 0.70814339 0.07220304 0.84099622 0.10365337]\n [0.20002709 0.30662231 0.72545549 0.9534352  0.71109539]]\n(5, 5)\n"
     ]
    }
   ],
   "source": [
    "# Criação de Matirz com valores aleatorios entre 0 e 1\n",
    "x = np.random.random(size = (5,5))\n",
    "print(x)\n",
    "print(x.shape)"
   ]
  },
  {
   "source": [
    "## Indexação do Array"
   ],
   "cell_type": "markdown",
   "metadata": {}
  },
  {
   "cell_type": "code",
   "execution_count": 46,
   "metadata": {},
   "outputs": [
    {
     "output_type": "stream",
     "name": "stdout",
     "text": [
      "[ 10.  20.  30.  40.  50.  60.  70.  80.  90. 100.]\n10.0\n100.0\n[20. 30. 40.]\n[10. 20. 30. 40.]\n[ 90. 100.]\n"
     ]
    }
   ],
   "source": [
    "x = np.linspace(start = 10, stop = 100, num = 10)\n",
    "print(x)\n",
    "print(x[0])\n",
    "print(x[-1])\n",
    "print(x[1:4])\n",
    "print(x[:4])\n",
    "print(x[-2:])"
   ]
  },
  {
   "cell_type": "code",
   "execution_count": 55,
   "metadata": {},
   "outputs": [
    {
     "output_type": "stream",
     "name": "stdout",
     "text": [
      "[[ 10.  20.  30.  40.  50.]\n [ 60.  70.  80.  90. 100.]]\n10.0\n100.0\n[[70. 80.]]\n[10. 20. 30. 40. 50.]\n[ 60.  70.  80.  90. 100.]\n[[ 50.]\n [100.]]\n"
     ]
    }
   ],
   "source": [
    "# Reshape (Vai redimensionar o array para 2D)\n",
    "x = x.reshape(2,5)\n",
    "print(x)\n",
    "print(x[0,0])\n",
    "print(x[-1,-1])\n",
    "print(x[1:3, 1:3])\n",
    "print(x[0,:]) # Primeira Linha\n",
    "print(x[-1,:]) # Ultima Linha\n",
    "print(x[:,[-1]]) # Ultima COluna"
   ]
  },
  {
   "source": [
    "## Operações Aritméticas"
   ],
   "cell_type": "markdown",
   "metadata": {}
  },
  {
   "cell_type": "code",
   "execution_count": 61,
   "metadata": {},
   "outputs": [
    {
     "output_type": "stream",
     "name": "stdout",
     "text": [
      "[[1. 1.]\n [1. 1.]]\n\n\n[[1. 0.]\n [0. 1.]]\n"
     ]
    }
   ],
   "source": [
    "# Criação dos arrays\n",
    "x = np.ones((2,2))\n",
    "y = np.eye(2)\n",
    "print(x)\n",
    "print('\\n')\n",
    "print(y)"
   ]
  },
  {
   "cell_type": "code",
   "execution_count": 67,
   "metadata": {},
   "outputs": [
    {
     "output_type": "stream",
     "name": "stdout",
     "text": [
      "[[2. 1.]\n [1. 2.]]\n\n\n[[3. 2.]\n [2. 3.]]\n"
     ]
    }
   ],
   "source": [
    "# Soma \n",
    "print(x + y)\n",
    "print('\\n')\n",
    "print(y + 2) # broadcasting"
   ]
  },
  {
   "cell_type": "code",
   "execution_count": 68,
   "metadata": {},
   "outputs": [
    {
     "output_type": "stream",
     "name": "stdout",
     "text": [
      "[[0. 1.]\n [1. 0.]]\n\n\n[[-1. -2.]\n [-2. -1.]]\n"
     ]
    }
   ],
   "source": [
    "# Subtração\n",
    "print(x - y)\n",
    "print('\\n')\n",
    "print(y - 2) # broadcasting"
   ]
  },
  {
   "cell_type": "code",
   "execution_count": 69,
   "metadata": {},
   "outputs": [
    {
     "output_type": "stream",
     "name": "stdout",
     "text": [
      "[[ 1. inf]\n",
      " [inf  1.]]\n",
      "\n",
      "\n",
      "[[0.5 0. ]\n",
      " [0.  0.5]]\n",
      "<ipython-input-69-553e808d03fe>:2: RuntimeWarning: divide by zero encountered in true_divide\n",
      "  print(x / y)\n"
     ]
    }
   ],
   "source": [
    "# Divisão\n",
    "print(x / y)\n",
    "print('\\n')\n",
    "print(y / 2) # broadcasting"
   ]
  },
  {
   "cell_type": "code",
   "execution_count": 70,
   "metadata": {},
   "outputs": [
    {
     "output_type": "stream",
     "name": "stdout",
     "text": [
      "[[1. 0.]\n [0. 1.]]\n\n\n[[2. 0.]\n [0. 2.]]\n"
     ]
    }
   ],
   "source": [
    "# Multiplicação\n",
    "print(x * y)\n",
    "print('\\n')\n",
    "print(y * 2) # broadcasting"
   ]
  },
  {
   "source": [
    "## Comparações e Indexação Booleana"
   ],
   "cell_type": "markdown",
   "metadata": {}
  },
  {
   "cell_type": "code",
   "execution_count": 83,
   "metadata": {},
   "outputs": [
    {
     "output_type": "stream",
     "name": "stdout",
     "text": [
      "[[1 2]\n [3 4]] \n\n[1.5 3.5]\n"
     ]
    }
   ],
   "source": [
    "# Criação dos Arrays\n",
    "x = np.array([[1,2], [3,4]])\n",
    "y = np.array([1.5, 3.5])\n",
    "print(x, '\\n')\n",
    "print(y)"
   ]
  },
  {
   "cell_type": "code",
   "execution_count": 84,
   "metadata": {},
   "outputs": [
    {
     "output_type": "stream",
     "name": "stdout",
     "text": [
      "[[False False]\n [ True  True]] \n\n[[False  True]\n [ True  True]] \n\n[[ True False]\n [False False]] \n\n[[ True  True]\n [False False]] \n\n[[ True  True]\n [ True  True]] \n\n[[False False]\n [False False]] \n\n[[False False]\n [ True  True]] \n\n"
     ]
    }
   ],
   "source": [
    "# Comparação ponto a ponto\n",
    "print(x > 2, '\\n')\n",
    "print(x >= 2, '\\n')\n",
    "print(x < 2, '\\n')\n",
    "print(x <= 2, '\\n')\n",
    "print(x == x, '\\n')\n",
    "print(x > x, '\\n')\n",
    "print(x > y, '\\n')"
   ]
  },
  {
   "cell_type": "code",
   "execution_count": 86,
   "metadata": {},
   "outputs": [
    {
     "output_type": "stream",
     "name": "stdout",
     "text": [
      "[[ 1  3  7]\n [ 4 11 21]\n [42  8  9]]\n"
     ]
    }
   ],
   "source": [
    "# Indexação Booleana\n",
    "x = np.array([[1,3,7],\n",
    "              [4,11,21],\n",
    "              [42,8,9]])\n",
    "print(x)"
   ]
  },
  {
   "cell_type": "code",
   "execution_count": 94,
   "metadata": {},
   "outputs": [
    {
     "output_type": "stream",
     "name": "stdout",
     "text": [
      "[11 21 42]\n[ 4 42  8]\n"
     ]
    }
   ],
   "source": [
    "k = 10            # verificador \n",
    "cond = x > k      # condição\n",
    "print(x[cond])    # aplicando a condição\n",
    "\n",
    "cond = x % 2 == 0 # somente elementos pares\n",
    "print(x[cond])"
   ]
  }
 ]
}