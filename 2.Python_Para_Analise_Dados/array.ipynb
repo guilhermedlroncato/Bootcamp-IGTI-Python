{
 "metadata": {
  "language_info": {
   "codemirror_mode": {
    "name": "ipython",
    "version": 3
   },
   "file_extension": ".py",
   "mimetype": "text/x-python",
   "name": "python",
   "nbconvert_exporter": "python",
   "pygments_lexer": "ipython3",
   "version": "3.8.5"
  },
  "orig_nbformat": 2,
  "kernelspec": {
   "name": "python38564bit8b293b89f0ff4306a4b3808275683ac8",
   "display_name": "Python 3.8.5 64-bit",
   "language": "python"
  }
 },
 "nbformat": 4,
 "nbformat_minor": 2,
 "cells": [
  {
   "cell_type": "code",
   "execution_count": 2,
   "metadata": {},
   "outputs": [],
   "source": [
    "import numpy as np"
   ]
  },
  {
   "cell_type": "code",
   "execution_count": 7,
   "metadata": {},
   "outputs": [
    {
     "output_type": "stream",
     "name": "stdout",
     "text": [
      "[[1 2 3 4]\n [2 3 4 5]]\n(2, 4)\n"
     ]
    }
   ],
   "source": [
    "# Criação de Arrays\n",
    "x = np.array([[1,2,3,4], [2,3,4,5]])\n",
    "print(x)\n",
    "print(x.shape)"
   ]
  },
  {
   "cell_type": "code",
   "execution_count": 10,
   "metadata": {},
   "outputs": [
    {
     "output_type": "stream",
     "name": "stdout",
     "text": [
      "[[0. 0. 0. 0. 0. 0. 0. 0. 0. 0.]\n [0. 0. 0. 0. 0. 0. 0. 0. 0. 0.]\n [0. 0. 0. 0. 0. 0. 0. 0. 0. 0.]\n [0. 0. 0. 0. 0. 0. 0. 0. 0. 0.]]\n(4, 10)\n"
     ]
    }
   ],
   "source": [
    "# Criação de array de zeros\n",
    "dim = (4,10)\n",
    "x = np.zeros(dim)\n",
    "print(x)\n",
    "print(x.shape)"
   ]
  },
  {
   "cell_type": "code",
   "execution_count": 11,
   "metadata": {},
   "outputs": [
    {
     "output_type": "stream",
     "name": "stdout",
     "text": [
      "[[1. 1. 1. 1. 1. 1. 1. 1. 1. 1.]\n [1. 1. 1. 1. 1. 1. 1. 1. 1. 1.]\n [1. 1. 1. 1. 1. 1. 1. 1. 1. 1.]\n [1. 1. 1. 1. 1. 1. 1. 1. 1. 1.]]\n(4, 10)\n"
     ]
    }
   ],
   "source": [
    "# Criação de array de um\n",
    "dim = (4,10)\n",
    "x = np.ones(dim)\n",
    "print(x)\n",
    "print(x.shape)"
   ]
  },
  {
   "cell_type": "code",
   "execution_count": 33,
   "metadata": {},
   "outputs": [
    {
     "output_type": "stream",
     "name": "stdout",
     "text": [
      "[ 5.          5.30612245  5.6122449   5.91836735  6.2244898   6.53061224\n  6.83673469  7.14285714  7.44897959  7.75510204  8.06122449  8.36734694\n  8.67346939  8.97959184  9.28571429  9.59183673  9.89795918 10.20408163\n 10.51020408 10.81632653 11.12244898 11.42857143 11.73469388 12.04081633\n 12.34693878 12.65306122 12.95918367 13.26530612 13.57142857 13.87755102\n 14.18367347 14.48979592 14.79591837 15.10204082 15.40816327 15.71428571\n 16.02040816 16.32653061 16.63265306 16.93877551 17.24489796 17.55102041\n 17.85714286 18.16326531 18.46938776 18.7755102  19.08163265 19.3877551\n 19.69387755 20.        ]\n(50,)\n"
     ]
    }
   ],
   "source": [
    "# Criação do Array dentor de um intervalo \n",
    "# valores uniformes entre 5 e 20\n",
    "x_min, x_max = 5, 20\n",
    "x = np.linspace(x_min, x_max)\n",
    "print(x)\n",
    "print(x.shape)"
   ]
  },
  {
   "cell_type": "code",
   "execution_count": 34,
   "metadata": {},
   "outputs": [
    {
     "output_type": "stream",
     "name": "stdout",
     "text": [
      "[[1. 0. 0. 0.]\n [0. 1. 0. 0.]\n [0. 0. 1. 0.]\n [0. 0. 0. 1.]]\n(4, 4)\n"
     ]
    }
   ],
   "source": [
    "# Criação de Matriz Identidade\n",
    "n = 4\n",
    "x = np.eye(n)\n",
    "print(x)\n",
    "print(x.shape)"
   ]
  },
  {
   "cell_type": "code",
   "execution_count": 38,
   "metadata": {},
   "outputs": [
    {
     "output_type": "stream",
     "name": "stdout",
     "text": [
      "[[0.34478141 0.08134891 0.18271923 0.32025236 0.7899075 ]\n [0.64500019 0.32066054 0.59866289 0.30627361 0.38573338]\n [0.20130786 0.20351133 0.43725329 0.63179863 0.25503781]\n [0.34323956 0.70814339 0.07220304 0.84099622 0.10365337]\n [0.20002709 0.30662231 0.72545549 0.9534352  0.71109539]]\n(5, 5)\n"
     ]
    }
   ],
   "source": [
    "# Criação de Matirz com valores aleatorios entre 0 e 1\n",
    "x = np.random.random(size = (5,5))\n",
    "print(x)\n",
    "print(x.shape)"
   ]
  }
 ]
}