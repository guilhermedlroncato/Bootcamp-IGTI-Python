{
 "metadata": {
  "language_info": {
   "codemirror_mode": {
    "name": "ipython",
    "version": 3
   },
   "file_extension": ".py",
   "mimetype": "text/x-python",
   "name": "python",
   "nbconvert_exporter": "python",
   "pygments_lexer": "ipython3",
   "version": "3.8.5"
  },
  "orig_nbformat": 2,
  "kernelspec": {
   "name": "python38564bit8b293b89f0ff4306a4b3808275683ac8",
   "display_name": "Python 3.8.5 64-bit",
   "language": "python"
  }
 },
 "nbformat": 4,
 "nbformat_minor": 2,
 "cells": [
  {
   "cell_type": "code",
   "execution_count": 13,
   "metadata": {},
   "outputs": [],
   "source": [
    " import pandas as pd \n",
    " from sklearn.preprocessing import LabelEncoder\n",
    " from sklearn.linear_model import LogisticRegression"
   ]
  },
  {
   "cell_type": "code",
   "execution_count": 3,
   "metadata": {},
   "outputs": [],
   "source": [
    "# Coleta de Dados\n",
    "df = pd.read_csv('https://pycourse.s3.amazonaws.com/temperature.csv')"
   ]
  },
  {
   "cell_type": "code",
   "execution_count": 9,
   "metadata": {},
   "outputs": [],
   "source": [
    "# Define a coluna date como index\n",
    "df['date'] = pd.to_datetime(df['date'])\n",
    "df = df.set_index('date')"
   ]
  },
  {
   "cell_type": "code",
   "execution_count": 11,
   "metadata": {},
   "outputs": [
    {
     "output_type": "stream",
     "name": "stdout",
     "text": [
      "x =  [[29.1]\n [31.2]\n [28.5]\n [28. ]\n [24. ]\n [20. ]]\ny =  [['quente']\n ['muito quente']\n ['quente']\n ['quente']\n ['confortavel']\n ['frio']]\n"
     ]
    }
   ],
   "source": [
    "# Definição do X e Y\n",
    "x, y = df[['temperatura']].values, df[['classification']].values\n",
    "print('x = ', x)\n",
    "print('y = ', y)"
   ]
  },
  {
   "cell_type": "code",
   "execution_count": 12,
   "metadata": {},
   "outputs": [
    {
     "output_type": "stream",
     "name": "stdout",
     "text": [
      "y =  [3 2 3 3 0 1]\n"
     ]
    }
   ],
   "source": [
    "# conversão de Y para valores numericos\n",
    "le = LabelEncoder()\n",
    "y = le.fit_transform(y.ravel())\n",
    "print('y = ', y)"
   ]
  },
  {
   "cell_type": "code",
   "execution_count": null,
   "metadata": {},
   "outputs": [],
   "source": []
  }
 ]
}